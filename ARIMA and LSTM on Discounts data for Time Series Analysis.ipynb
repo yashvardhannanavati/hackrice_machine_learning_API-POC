{
 "cells": [
  {
   "cell_type": "markdown",
   "metadata": {},
   "source": [
    "# ARIMA Model for Time-Series Analysis\n",
    "## (We are using this model to predict future discounts in our app)\n",
    "\n",
    "An ARIMA model is a class of statistical models for analyzing and forecasting time series data. \n",
    "\n",
    "It explicitly caters to a suite of standard structures in time series data, and as such provides a simple yet powerful method for making skillful time series forecasts.\n",
    "\n",
    "ARIMA is an acronym that stands for AutoRegressive Integrated Moving Average. It is a generalization of the simpler AutoRegressive Moving Average and adds the notion of integration.\n",
    "\n",
    "This acronym is descriptive, capturing the key aspects of the model itself. Briefly, they are:\n",
    "\n",
    "AR: Autoregression. A model that uses the dependent relationship between an observation and some number of lagged observations.\n",
    "I: Integrated. The use of differencing of raw observations (e.g. subtracting an observation from an observation at the previous time step) in order to make the time series stationary.\n",
    "MA: Moving Average. A model that uses the dependency between an observation and a residual error from a moving average model applied to lagged observations.\n",
    "Each of these components are explicitly specified in the model as a parameter. A standard notation is used of ARIMA(p,d,q) where the parameters are substituted with integer values to quickly indicate the specific ARIMA model being used.\n",
    "\n"
   ]
  },
  {
   "cell_type": "code",
   "execution_count": 1,
   "metadata": {},
   "outputs": [],
   "source": [
    "## DATA CLEANING\n",
    "\n",
    "from firebase_admin import initialize_app\n",
    "from firebase_admin import credentials\n",
    "from firebase_admin import db\n",
    "\n",
    "# Fetch the service account key JSON file contents\n",
    "cred = credentials.Certificate('ricehack2018-firebase-adminsdk-ukl68-192239081c.json')\n",
    "# Initialize the app with a service account, granting admin privileges\n",
    "initialize_app(cred, {\n",
    "    'databaseURL': 'https://ricehack2018.firebaseio.com/'\n",
    "})\n",
    "ref = db.reference('/offers/users/')\n",
    "existing_offers = ref.child('729b9a0518abf3f65c9717f2fab9583a').get() or []\n",
    "\n",
    "\n",
    "import pandas as pd\n",
    "import numpy as np\n",
    "import datetime\n",
    "records_df = pd.DataFrame.from_records(existing_offers)\n",
    "records_df['offerArrivalDate'] = (pd.to_datetime(records_df['offerArrivalDate'].apply(pd.to_numeric),unit='ms'))\n",
    "formatted_df = records_df.copy()\n",
    "formatted_df.set_index('offerArrivalDate', inplace=True)\n",
    "reformatted_df = formatted_df.copy()[['offerPercentage']]\n",
    "reformatted_df['offerPercentage'] = (reformatted_df['offerPercentage'].str[:-1].astype(int))\n",
    "reformatted_df = reformatted_df.resample(\"M\").apply(lambda x: np.average(x.offerPercentage))"
   ]
  },
  {
   "cell_type": "code",
   "execution_count": 44,
   "metadata": {},
   "outputs": [],
   "source": [
    "formatted_df = formatted_df.drop(['coupon_code'], axis=1)\n",
    "formatted_df.set_index('offerArrivalDate', inplace=True)"
   ]
  },
  {
   "cell_type": "code",
   "execution_count": 124,
   "metadata": {},
   "outputs": [],
   "source": [
    "import numpy as np\n",
    "reformatted_df = formatted_df.copy()[['offerPercentage']]\n",
    "reformatted_df['offerPercentage'] = (reformatted_df['offerPercentage'].str[:-1].astype(int))\n",
    "reformatted_df = reformatted_df.resample(\"M\").apply(lambda x: np.average(x.offerPercentage))\n"
   ]
  },
  {
   "cell_type": "code",
   "execution_count": 125,
   "metadata": {},
   "outputs": [
    {
     "data": {
      "text/plain": [
       "offerArrivalDate\n",
       "2018-04-30    30.000000\n",
       "2018-05-31    16.250000\n",
       "2018-06-30    20.000000\n",
       "2018-07-31    39.473684\n",
       "2018-08-31    24.449153\n",
       "2018-09-30    29.297297\n",
       "Freq: M, dtype: float64"
      ]
     },
     "execution_count": 125,
     "metadata": {},
     "output_type": "execute_result"
    }
   ],
   "source": [
    "# This is the data obtained after cleaning it to suit the input type of the model\n",
    "reformatted_df"
   ]
  },
  {
   "cell_type": "code",
   "execution_count": 7,
   "metadata": {},
   "outputs": [
    {
     "name": "stdout",
     "output_type": "stream",
     "text": [
      "                             ARIMA Model Results                              \n",
      "==============================================================================\n",
      "Dep. Variable:                   D2.y   No. Observations:                    5\n",
      "Model:                 ARIMA(1, 2, 0)   Log Likelihood                 -17.451\n",
      "Method:                       css-mle   S.D. of innovations              6.922\n",
      "Date:                Sun, 16 Sep 2018   AIC                             40.903\n",
      "Time:                        00:53:11   BIC                             39.731\n",
      "Sample:                    05-31-2018   HQIC                            37.758\n",
      "                         - 09-30-2018                                         \n",
      "==============================================================================\n",
      "                 coef    std err          z      P>|z|      [0.025      0.975]\n",
      "------------------------------------------------------------------------------\n",
      "const         -0.7191      1.860     -0.387      0.725      -4.364       2.926\n",
      "ar.L1.D2.y    -0.8632      0.158     -5.452      0.012      -1.173      -0.553\n",
      "                                    Roots                                    \n",
      "=============================================================================\n",
      "                  Real          Imaginary           Modulus         Frequency\n",
      "-----------------------------------------------------------------------------\n",
      "AR.1           -1.1585           +0.0000j            1.1585            0.5000\n",
      "-----------------------------------------------------------------------------\n"
     ]
    },
    {
     "data": {
      "image/png": "[encoded data removed]",
      "text/plain": [
       "<Figure size 432x288 with 1 Axes>"
      ]
     },
     "metadata": {},
     "output_type": "display_data"
    },
    {
     "data": {
      "image/png": "[encoded data removed]",
      "text/plain": [
       "<Figure size 432x288 with 1 Axes>"
      ]
     },
     "metadata": {},
     "output_type": "display_data"
    },
    {
     "name": "stdout",
     "output_type": "stream",
     "text": [
      "               0\n",
      "count   5.000000\n",
      "mean    1.637496\n",
      "std     8.561154\n",
      "min    -7.815263\n",
      "25%    -5.496754\n",
      "50%     0.852169\n",
      "75%     9.485360\n",
      "max    11.161967\n"
     ]
    }
   ],
   "source": [
    "# PLOTTING RESIDUAL ERRORS TO GET A FEEL OF HOW GOOD IS THE MODEL TRAINED\n",
    "from pandas import read_csv\n",
    "from pandas import datetime\n",
    "from pandas import DataFrame\n",
    "from statsmodels.tsa.arima_model import ARIMA\n",
    "from matplotlib import pyplot\n",
    "from sklearn.metrics import mean_squared_error\n",
    "\n",
    "\n",
    "# fit model\n",
    "model = ARIMA(reformatted_df, order=(1,2,0))\n",
    "model_fit = model.fit(disp=0)\n",
    "print(model_fit.summary())\n",
    "# plot residual errors\n",
    "residuals = DataFrame(model_fit.resid)\n",
    "residuals.plot()\n",
    "pyplot.show()\n",
    "residuals.plot(kind='kde')\n",
    "pyplot.show()\n",
    "print(residuals.describe())"
   ]
  },
  {
   "cell_type": "code",
   "execution_count": 30,
   "metadata": {},
   "outputs": [
    {
     "name": "stdout",
     "output_type": "stream",
     "text": [
      "predicted=21.175752, expected=23.673333\n",
      "predicted=19.919121, expected=29.660550\n",
      "Test MSE: 50.567\n"
     ]
    },
    {
     "data": {
      "image/png": "[encoded data removed]",
      "text/plain": [
       "<Figure size 432x288 with 1 Axes>"
      ]
     },
     "metadata": {},
     "output_type": "display_data"
    }
   ],
   "source": [
    "# PREDICTION AND PLOTTING\n",
    "X = reformatted_df.values\n",
    "size = int(len(X) * 0.77)\n",
    "train, test = X[0:size], X[size:len(X)]\n",
    "history = [x for x in train]\n",
    "predictions = list()\n",
    "for t in range(len(test)):\n",
    "\tmodel = ARIMA(history, order=(1,0,0))\n",
    "\tmodel_fit = model.fit(disp=0)\n",
    "\toutput = model_fit.forecast()\n",
    "\tyhat = output[0]\n",
    "\tpredictions.append(yhat)\n",
    "\tobs = test[t]\n",
    "\thistory.append(obs)\n",
    "\tprint('predicted=%f, expected=%f' % (yhat, obs))\n",
    "error = mean_squared_error(test, predictions)\n",
    "print('Test MSE: %.3f' % error)\n",
    "# plot\n",
    "pyplot.plot(test)\n",
    "pyplot.plot(predictions, color='red')\n",
    "pyplot.show()"
   ]
  },
  {
   "cell_type": "markdown",
   "metadata": {},
   "source": [
    "The mean squared error is huge because of lack of data. This is kind of a POC. Once, we have more data in the database, the predictions will get better. But hence, we can conclude that we can use ARIMA model to somewhat accurately predict the discount timings of a brand spread throughout the year."
   ]
  },
  {
   "cell_type": "markdown",
   "metadata": {},
   "source": [
    "# LSTM Model for Time Series Analysis"
   ]
  },
  {
   "cell_type": "code",
   "execution_count": null,
   "metadata": {},
   "outputs": [],
   "source": [
    "# DATA CLEANING USED FOR LSTM POC. THIS IS NOT USED IN OUR APP, BUT WORKS AS EXPECTED\n",
    "\n",
    "# lst_col = 'brandeClassification'\n",
    "# formatted_df = pd.DataFrame({\n",
    "#               col:np.repeat(records_df[col].values, records_df[lst_col].str.len())\n",
    "#               for col in records_df.columns.difference([lst_col])\n",
    "#           }).assign(**{lst_col:np.concatenate(records_df[lst_col].values)})[records_df.columns.tolist()]\n",
    "# category_index = lambda x: 'category_{}'.format(x + 1)\n",
    "# categories_df = pd.DataFrame(\n",
    "#                     records_df.classification_category.values.tolist(),\n",
    "#                     records_df.index, dtype=object\n",
    "#                 ).rename(columns=category_index)\n",
    "# formatted_df = pd.concat([records_df.drop('classification_category', axis=1), categories_df], axis=1)\n",
    "# formatted_df['email_date'] = pd.to_datetime(formatted_df['email_date'], format = '%m/%d/%Y')\n",
    "# formatted_df = formatted_df.sort_values(by=['email_date'], ascending=True)\n",
    "# formatted_df['expiry_date'] = pd.to_datetime(df['expiry_date'], format = '%m/%d/%Y')"
   ]
  },
  {
   "cell_type": "code",
   "execution_count": 12,
   "metadata": {},
   "outputs": [
    {
     "data": {
      "text/plain": [
       "array([[0, 2, '30'],\n",
       "       [0, 4, '30'],\n",
       "       [0, 1, '30'],\n",
       "       [2, 2, '20'],\n",
       "       [2, 4, '20'],\n",
       "       [2, 3, '20'],\n",
       "       [1, 2, '40'],\n",
       "       [1, 0, '40'],\n",
       "       [0, 2, '30'],\n",
       "       [0, 4, '30'],\n",
       "       [0, 1, '30'],\n",
       "       [2, 2, '20'],\n",
       "       [2, 4, '20'],\n",
       "       [2, 3, '20'],\n",
       "       [1, 2, '40'],\n",
       "       [1, 0, '40']], dtype=object)"
      ]
     },
     "execution_count": 12,
     "metadata": {},
     "output_type": "execute_result"
    }
   ],
   "source": [
    "from sklearn import preprocessing\n",
    "# convert series to supervised learning\n",
    "def series_to_supervised(data, n_in=1, n_out=1, dropnan=True):\n",
    "\tn_vars = 1 if type(data) is list else data.shape[1]\n",
    "\tdf = pd.DataFrame(data)\n",
    "\tcols, names = list(), list()\n",
    "\t# input sequence (t-n, ... t-1)\n",
    "\tfor i in range(n_in, 0, -1):\n",
    "\t\tcols.append(df.shift(i))\n",
    "\t\tnames += [('var%d(t-%d)' % (j+1, i)) for j in range(n_vars)]\n",
    "\t# forecast sequence (t, t+1, ... t+n)\n",
    "\tfor i in range(0, n_out):\n",
    "\t\tcols.append(df.shift(-i))\n",
    "\t\tif i == 0:\n",
    "\t\t\tnames += [('var%d(t)' % (j+1)) for j in range(n_vars)]\n",
    "\t\telse:\n",
    "\t\t\tnames += [('var%d(t+%d)' % (j+1, i)) for j in range(n_vars)]\n",
    "\t# put it all together\n",
    "\tagg = pd.concat(cols, axis=1)\n",
    "\tagg.columns = names\n",
    "\t# drop rows with NaN values\n",
    "\tif dropnan:\n",
    "\t\tagg.dropna(inplace=True)\n",
    "\treturn agg\n",
    "\n",
    "values = formatted_df.values\n",
    "# integer encode direction\n",
    "encoder = preprocessing.LabelEncoder()\n",
    "values[:,0] = encoder.fit_transform(values[:,0])\n",
    "values[:,1] = encoder.fit_transform(values[:,1])\n",
    "values"
   ]
  },
  {
   "cell_type": "code",
   "execution_count": 30,
   "metadata": {},
   "outputs": [
    {
     "name": "stdout",
     "output_type": "stream",
     "text": [
      "[10.25683806836605, 10.06539511680603, 9.922087550163269, 30.36486327648163, 30.36486327648163, 20.31666788458824, 20.202626019716263, 20.167011201381683, 10.208807528018951, 10.183900564908981, 10.15700477361679, 30.36486327648163]\n",
      "Test RMSE: 14.597\n",
      "         results\n",
      "count   1.000000\n",
      "mean   14.596581\n",
      "std          NaN\n",
      "min    14.596581\n",
      "25%    14.596581\n",
      "50%    14.596581\n",
      "75%    14.596581\n",
      "max    14.596581\n"
     ]
    }
   ],
   "source": [
    "from pandas import DataFrame\n",
    "from pandas import Series\n",
    "from pandas import concat\n",
    "from pandas import read_csv\n",
    "from pandas import datetime\n",
    "from sklearn.metrics import mean_squared_error\n",
    "from sklearn.preprocessing import MinMaxScaler\n",
    "from keras.models import Sequential\n",
    "from keras.layers import Dense\n",
    "from keras.layers import LSTM\n",
    "from math import sqrt\n",
    "import matplotlib\n",
    "import numpy\n",
    "from numpy import concatenate\n",
    "\n",
    "# date-time parsing function for loading the dataset\n",
    "def parser(x):\n",
    "\treturn datetime.strptime('190'+x, '%Y-%m')\n",
    "\n",
    "# frame a sequence as a supervised learning problem\n",
    "def timeseries_to_supervised(data, lag=1):\n",
    "\tdf = DataFrame(data)\n",
    "\tcolumns = [df.shift(i) for i in range(1, lag+1)]\n",
    "\tcolumns.append(df)\n",
    "\tdf = concat(columns, axis=1)\n",
    "\treturn df\n",
    "\n",
    "# create a differenced series\n",
    "def difference(dataset, interval=1):\n",
    "\tdiff = list()\n",
    "\tfor i in range(interval, len(dataset)):\n",
    "\t\tvalue = dataset[i] - dataset[i - interval]\n",
    "\t\tdiff.append(value)\n",
    "\treturn Series(diff)\n",
    "\n",
    "# invert differenced value\n",
    "def inverse_difference(history, yhat, interval=1):\n",
    "\treturn yhat + history[-interval]\n",
    "\n",
    "# scale train and test data to [-1, 1]\n",
    "def scale(train, test):\n",
    "\t# fit scaler\n",
    "\tscaler = MinMaxScaler(feature_range=(-1, 1))\n",
    "\tscaler = scaler.fit(train)\n",
    "\t# transform train\n",
    "\ttrain = train.reshape(train.shape[0], train.shape[1])\n",
    "\ttrain_scaled = scaler.transform(train)\n",
    "\t# transform test\n",
    "\ttest = test.reshape(test.shape[0], test.shape[1])\n",
    "\ttest_scaled = scaler.transform(test)\n",
    "\treturn scaler, train_scaled, test_scaled\n",
    "\n",
    "# inverse scaling for a forecasted value\n",
    "def invert_scale(scaler, X, yhat):\n",
    "\tnew_row = [x for x in X] + [yhat]\n",
    "\tarray = numpy.array(new_row)\n",
    "\tarray = array.reshape(1, len(array))\n",
    "\tinverted = scaler.inverse_transform(array)\n",
    "\treturn inverted[0, -1]\n",
    "\n",
    "# fit an LSTM network to training data\n",
    "def fit_lstm(train, batch_size, nb_epoch, neurons):\n",
    "\tX, y = train[:, 0:-1], train[:, -1]\n",
    "\tX = X.reshape(X.shape[0], 1, X.shape[1])\n",
    "\tmodel = Sequential()\n",
    "\tmodel.add(LSTM(neurons, batch_input_shape=(batch_size, X.shape[1], X.shape[2]), stateful=True))\n",
    "\tmodel.add(Dense(1))\n",
    "\tmodel.compile(loss='mean_squared_error', optimizer='adam')\n",
    "\tfor i in range(nb_epoch):\n",
    "\t\tmodel.fit(X, y, epochs=1, batch_size=batch_size, verbose=0, shuffle=False)\n",
    "\t\tmodel.reset_states()\n",
    "\t# save model to single file\n",
    "\tmodel.save('lstm_model.h5')\n",
    "\treturn model\n",
    "\n",
    "# make a one-step forecast\n",
    "def forecast_lstm(model, batch_size, X):\n",
    "\tX = X.reshape(1, 1, len(X))\n",
    "\tyhat = model.predict(X, batch_size=batch_size)\n",
    "\treturn yhat[0,0]\n",
    "\n",
    "# run a repeated experiment\n",
    "def experiment(repeats, series, features):\n",
    "\t# transform data to be stationary\n",
    "\traw_values = series.offer.values\n",
    "\tdiff_values = difference(raw_values, 1)\n",
    "\t# transform data to be supervised learning\n",
    "\tsupervised = timeseries_to_supervised(diff_values, features)\n",
    "\tsupervised_values = supervised.values[features:,:]\n",
    "\t# split data into train and test-sets\n",
    "\ttrain, test = supervised_values[0:-12, :], supervised_values[-12:, :]\n",
    "\t# transform the scale of the data\n",
    "\tscaler, train_scaled, test_scaled = scale(train, test)\n",
    "\t# run experiment\n",
    "\terror_scores = list()\n",
    "\t# fit the base model\n",
    "\tlstm_model = fit_lstm(train_scaled, 1, 500, 2)\n",
    "\t# forecast test dataset\n",
    "\tpredictions = list()\n",
    "\tfor i in range(len(test_scaled)):\n",
    "\t\t# predict\n",
    "\t\tX, y = test_scaled[i, 0:-1], test_scaled[i, -1]        \n",
    "\t\tyhat = forecast_lstm(lstm_model, 1, X)\n",
    "\t\t# invert scaling\n",
    "\t\tyhat = invert_scale(scaler, X, yhat)\n",
    "\t\t# invert differencing\n",
    "\t\tyhat = inverse_difference(raw_values, yhat, len(test_scaled)+1-i)\n",
    "\t\t# store forecast\n",
    "\t\tpredictions.append(yhat) \n",
    "\tprint(predictions)    \n",
    "\t# report performance\n",
    "\trmse = sqrt(mean_squared_error(raw_values[-12:], predictions))\n",
    "\tprint('Test RMSE: %.3f' % rmse)\n",
    "\terror_scores.append(rmse)\n",
    "\treturn error_scores\n",
    "\n",
    "# execute the experiment\n",
    "def run():\n",
    "\t# load dataset\n",
    "\tseries = read_csv('sales-of-shampoo-over-a-three-ye.csv', header=0, parse_dates=[0], index_col=0, squeeze=True, date_parser=parser)\n",
    "\tseries = formatted_df.copy()\n",
    "\tseries['offer'] = series[['offer']].apply(pd.to_numeric)\n",
    "\t# experiment\n",
    "\trepeats = 10\n",
    "\tresults = DataFrame()\n",
    "\t# run experiment\n",
    "\tfeatures = 2\n",
    "\tresults['results'] = experiment(repeats, series, features)\n",
    "\t# summarize results\n",
    "\tprint(results.describe())\n",
    "\t# save results\n",
    "\tresults.to_csv('experiment_features_1.csv', index=False)\n",
    "\n",
    " # entry point\n",
    "run()"
   ]
  },
  {
   "cell_type": "markdown",
   "metadata": {},
   "source": [
    "Hence, we used ARIMA model and LSTM for Time series Analysis and found ARIMA to be faster and equally good for predicting if the coming months promise a better discount or not. More info can be found on our devpost link."
   ]
  }
 ],
 "metadata": {
  "kernelspec": {
   "display_name": "Python 3",
   "language": "python",
   "name": "python3"
  },
  "language_info": {
   "codemirror_mode": {
    "name": "ipython",
    "version": 3
   },
   "file_extension": ".py",
   "mimetype": "text/x-python",
   "name": "python",
   "nbconvert_exporter": "python",
   "pygments_lexer": "ipython3",
   "version": "3.6.6"
  }
 },
 "nbformat": 4,
 "nbformat_minor": 2
}
